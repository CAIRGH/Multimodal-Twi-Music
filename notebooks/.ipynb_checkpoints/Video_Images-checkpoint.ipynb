{
 "cells": [
  {
   "cell_type": "code",
   "execution_count": 6,
   "id": "f1325916",
   "metadata": {},
   "outputs": [],
   "source": [
    "import librosa\n",
    "import cv2\n",
    "import numpy as np\n",
    "from tqdm import tqdm\n",
    "import pandas as pd"
   ]
  },
  {
   "cell_type": "code",
   "execution_count": 7,
   "id": "68a1a1c3",
   "metadata": {},
   "outputs": [],
   "source": [
    "#This notebook generates all the video frames from the selected segment of video clips. Afterwards, it generates a csv file\n",
    "#called VideoImages.csv, which is the list of all the generated video frames"
   ]
  },
  {
   "cell_type": "code",
   "execution_count": 8,
   "id": "a3adbf86",
   "metadata": {},
   "outputs": [
    {
     "name": "stderr",
     "output_type": "stream",
     "text": [
      "3it [00:11,  3.98s/it]\n"
     ]
    }
   ],
   "source": [
    "#metadata = pd.read_csv(\"../CSV_Files/VideoSegment.csv\",encoding='latin1')\n",
    "metadata = pd.read_csv(\"VideoSegment.csv\",encoding='latin1')\n",
    "norm_audios_feat = []\n",
    "vcount = 1\n",
    "#for file in norm_audio_files:\n",
    "count = 1\n",
    "for index_num,row in tqdm(metadata.iterrows()):\n",
    "   file = metadata.loc[index_num, \"Filename\"]\n",
    "   title = metadata.loc[index_num, \"Title of Song\"]\n",
    "   link = metadata.loc[index_num, \"Url\"]\n",
    "   type = 'JPG'\n",
    "   lang = metadata.loc[index_num, \"Language\"]\n",
    "   sent = metadata.loc[index_num, \"Sentiment\"]\n",
    "   text = metadata.loc[index_num, \"Lyrics\"]\n",
    "   gen = metadata.loc[index_num, \"Genre\"]\n",
    "   sn = metadata.loc[index_num, \"SN\"]\n",
    "   #capture = cv2.VideoCapture('../All_Videos/'+file)\n",
    "   capture = cv2.VideoCapture(file)\n",
    "   frameNr = 1\n",
    "   while (True):\n",
    "        success, frame = capture.read()\n",
    "        if success:\n",
    "            #cv2.imwrite(f'frame_{frameNr}_Video_{sn}.jpg', frame)\n",
    "            #capture.release()\n",
    "            vsn = file.partition('.mp4')[0]\n",
    "            cv2.imwrite(f'Frame_{frameNr}_{vsn}.jpg', frame)\n",
    "            filevector = [count]+[f'Frame_{frameNr}_{vsn}.jpg']+[title]+[type]+[lang]+[sent]+[text]+[gen]\n",
    "            norm_audios_feat.append(filevector) \n",
    "            frameNr = frameNr+1\n",
    "            count = count + 1\n",
    "        else:\n",
    "            break\n",
    "   capture.release()\n",
    "   #capture = cv2.VideoCapture('../All_Videos/'+file)\n",
    "    \n",
    "    \n",
    "   #capture = cv2.VideoCapture(file)\n",
    "   #frameNr = 1\n",
    "   #while (True):\n",
    "   #     success, frame = capture.read()\n",
    "   #     if success:\n",
    "   #         #cv2.imwrite('../Video_Frames/'+f'Frame_{frameNr}_{vsn}.jpg', frame)\n",
    "   #         cv2.imwrite(f'Frame_{frameNr}_{vsn}.jpg', frame)\n",
    "   #         frameNr = frameNr+1\n",
    "   #     else:\n",
    "   #         break\n",
    "   #capture.release()\n",
    "\n",
    "\n",
    "   #capture.release()\n",
    "   #filevector = [count]+[file]+[title]+[type]+[lang]+[sent]+[f'frame_{frameNr}.jpg']\n",
    "   #norm_audios_feat.append(filevector) "
   ]
  },
  {
   "cell_type": "code",
   "execution_count": 9,
   "id": "6bf5e066",
   "metadata": {},
   "outputs": [],
   "source": [
    "import csv\n",
    "norm_output = 'VideoImages_01.csv'\n",
    "header =[\n",
    " 'SN',\n",
    " 'FrameNo',\n",
    " 'Title of Song',\n",
    " 'Type',\n",
    " 'Language',\n",
    " 'Sentiment',\n",
    " 'Lyrics',\n",
    " 'Genre'\n",
    "]\n",
    "with open(norm_output,'+w',encoding='utf-8') as f:\n",
    "    csv_writer = csv.writer(f, delimiter = ',',quoting=csv.QUOTE_MINIMAL)\n",
    "    csv_writer.writerow(header)\n",
    "    csv_writer.writerows(norm_audios_feat)"
   ]
  },
  {
   "cell_type": "code",
   "execution_count": 10,
   "id": "a5075106",
   "metadata": {},
   "outputs": [],
   "source": [
    "with open('VideoImages_01.csv') as input, open('VideoImages.csv', 'w') as output:\n",
    "    non_blank = (line for line in input if line.strip())\n",
    "    output.writelines(non_blank)"
   ]
  },
  {
   "cell_type": "code",
   "execution_count": null,
   "id": "ec60f424",
   "metadata": {},
   "outputs": [],
   "source": []
  }
 ],
 "metadata": {
  "kernelspec": {
   "display_name": "Python 3 (ipykernel)",
   "language": "python",
   "name": "python3"
  },
  "language_info": {
   "codemirror_mode": {
    "name": "ipython",
    "version": 3
   },
   "file_extension": ".py",
   "mimetype": "text/x-python",
   "name": "python",
   "nbconvert_exporter": "python",
   "pygments_lexer": "ipython3",
   "version": "3.11.5"
  }
 },
 "nbformat": 4,
 "nbformat_minor": 5
}
