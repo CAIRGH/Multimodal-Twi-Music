{
 "cells": [
  {
   "cell_type": "code",
   "execution_count": 1,
   "id": "e6858fdd",
   "metadata": {},
   "outputs": [],
   "source": [
    "from glob import glob\n",
    "import os\n",
    "import librosa\n",
    "import numpy as np\n",
    "from tqdm import tqdm\n",
    "import pandas as pd"
   ]
  },
  {
   "cell_type": "code",
   "execution_count": 2,
   "id": "464bb977",
   "metadata": {},
   "outputs": [],
   "source": [
    "#This notebook is used to extract the MFCC spectral acoustic features from all the audio clips and generate a csv file\n",
    "#called Features.csv"
   ]
  },
  {
   "cell_type": "code",
   "execution_count": 3,
   "id": "dd1fedde",
   "metadata": {},
   "outputs": [],
   "source": [
    "norm_audio_files = [f for f in os.listdir() if os.path.isfile(f)]"
   ]
  },
  {
   "cell_type": "code",
   "execution_count": 4,
   "id": "86a5e4d0",
   "metadata": {
    "scrolled": true
   },
   "outputs": [
    {
     "name": "stderr",
     "output_type": "stream",
     "text": [
      "211it [05:13,  1.26s/it]C:\\Users\\osonduo\\AppData\\Local\\anaconda3\\Lib\\site-packages\\librosa\\core\\pitch.py:101: UserWarning: Trying to estimate tuning from empty frequency set.\n",
      "  return pitch_tuning(\n",
      "1863it [1:05:26,  2.11s/it]\n"
     ]
    }
   ],
   "source": [
    "norm_audios_feat = []\n",
    "count = 1\n",
    "#metadata = pd.read_csv(\"../CSV_Files/AudioSegments.csv\",encoding='latin1')\n",
    "#metadata = pd.read_csv(\"AudioSegments.csv\",encoding='latin1')\n",
    "metadata = pd.read_csv(\"AudioSegments.csv\",encoding='latin1')\n",
    "for index_num,row in tqdm(metadata.iterrows()):\n",
    "   file = metadata.loc[index_num, \"Filename\"]\n",
    "   link = metadata.loc[index_num, \"Url\"]\n",
    "   title = metadata.loc[index_num, \"Title of Song\"]\n",
    "   lang = metadata.loc[index_num, \"Language\"]\n",
    "   sent = metadata.loc[index_num, \"Sentiment\"]\n",
    "   text = metadata.loc[index_num, \"Lyrics\"]\n",
    "   gen = metadata.loc[index_num, \"Genre\"]\n",
    "   meaning = metadata.loc[index_num, \"Meaning of Song\"]\n",
    "   #y , sr = librosa.load(file)\n",
    "   y, sr = librosa.load(file, res_type='kaiser_fast', duration=15, offset=0.5, sr=44100) \n",
    "   #feat_vect_mfcc = [np.mean(librosa.feature.mfcc(y=y, sr=sr, n_mfcc=40)]\n",
    "   mfccs_features = librosa.feature.mfcc(y=y, sr=sr, n_mfcc=40)\n",
    "   #feat_vect_mfcc = [np.mean(librosa.feature.mfcc(y=y, sr=sr))]\n",
    "   feat_vect_iii = [np.mean(librosa.onset.onset_strength(y=y, sr=sr))]\n",
    "   feat_vect_iiii = [np.mean(librosa.feature.chroma_stft(y=y, sr=sr))]\n",
    "   feat_vect_iiiii = [np.mean(librosa.effects.hpss(y))]\n",
    "   feat_vect_ii = [np.mean(librosa.feature.zero_crossing_rate(y))] \n",
    "   mfccs_scaled_features = [np.mean(mfccs_features.T,axis=0)]\n",
    "   feat_vect_first = [count]\n",
    "   feat_vect_second = [file]\n",
    "   one = [link]\n",
    "   feat_vect_third = [title]\n",
    "   two = [lang]\n",
    "   feat_vect_last = [sent]\n",
    "   three = [text]\n",
    "   four = [gen]\n",
    "   five = [meaning]\n",
    "   #feat_vect_centroid = [np.mean(librosa.feature.spectral_centroid(y=y, sr=sr))]\n",
    "   feature_vector = feat_vect_first + feat_vect_second + feat_vect_third + one + two + three + four + five + feat_vect_last + feat_vect_iii + feat_vect_iiii + feat_vect_iiiii + feat_vect_ii + mfccs_scaled_features\n",
    "   #feature_vector = feat_vect_first + feat_vect_second + feat_vect_third + mfccs_scaled_features + feat_vect_last\n",
    "   norm_audios_feat.append(feature_vector) \n",
    "   count = count + 1"
   ]
  },
  {
   "cell_type": "code",
   "execution_count": 5,
   "id": "b56786bb",
   "metadata": {
    "scrolled": true
   },
   "outputs": [],
   "source": [
    "import csv\n",
    "norm_output = 'Acoustic_Features_00.csv'\n",
    "header =[\n",
    " 'SN',\n",
    " 'Filename',\n",
    " 'Title of Song',\n",
    " 'Url',\n",
    " 'Language',\n",
    " 'Lyrics',\n",
    " 'Genre',\n",
    " 'Meaning of Song',\n",
    " 'Sentiment',\n",
    " 'Onset_Strength',\n",
    " 'Chroma_Shift',\n",
    " 'HPSS',\n",
    " 'Zero_Crossing_Rate',\n",
    " 'MFCC'\n",
    "]\n",
    "with open(norm_output,'+w',encoding='utf-8') as f:\n",
    " csv_writer = csv.writer(f, delimiter = ',',quoting=csv.QUOTE_MINIMAL)\n",
    " csv_writer.writerow(header)\n",
    " csv_writer.writerows(norm_audios_feat)"
   ]
  },
  {
   "cell_type": "code",
   "execution_count": 6,
   "id": "2800ba49",
   "metadata": {},
   "outputs": [],
   "source": [
    "with open('Acoustic_Features_00.csv') as input, open('Final_Acoustic_Features.csv', 'w') as output:\n",
    "    non_blank = (line for line in input if line.strip())\n",
    "    output.writelines(non_blank)"
   ]
  },
  {
   "cell_type": "code",
   "execution_count": null,
   "id": "7e669014",
   "metadata": {},
   "outputs": [],
   "source": []
  },
  {
   "cell_type": "code",
   "execution_count": null,
   "id": "d356d598",
   "metadata": {},
   "outputs": [],
   "source": []
  }
 ],
 "metadata": {
  "kernelspec": {
   "display_name": "Python 3 (ipykernel)",
   "language": "python",
   "name": "python3"
  },
  "language_info": {
   "codemirror_mode": {
    "name": "ipython",
    "version": 3
   },
   "file_extension": ".py",
   "mimetype": "text/x-python",
   "name": "python",
   "nbconvert_exporter": "python",
   "pygments_lexer": "ipython3",
   "version": "3.11.5"
  }
 },
 "nbformat": 4,
 "nbformat_minor": 5
}
